{
 "cells": [
  {
   "cell_type": "code",
   "execution_count": null,
   "id": "f001158e",
   "metadata": {},
   "outputs": [],
   "source": [
    "import pandas as pd\n",
    "import os\n",
    "from pathlib import Path"
   ]
  },
  {
   "cell_type": "code",
   "execution_count": null,
   "id": "894ace33",
   "metadata": {},
   "outputs": [],
   "source": [
    "gpu_df= pd.DataFrame(columns=['jobid','V100_32GB','V100_16GB','A100_40GB','CPU', 'RAM','energy','gpu_name','group_name','duration', 'gpu_type','jobname','start_time', 'end_time', 'location'])"
   ]
  },
  {
   "cell_type": "code",
   "execution_count": null,
   "id": "02ef5e6f",
   "metadata": {},
   "outputs": [],
   "source": [
    "for p in Path('../logs/').glob('*.txt'):\n",
    "    print(p)\n",
    "    with p.open() as log:\n",
    "        for l in log.readlines():\n",
    "            gpu_logs= [s for s in l.split('|')]\n",
    "            #print(len(logs))\n",
    "            gpu_log_series = pd.Series(gpu_logs, index = gpu_df.columns)\n",
    "            #print(log_series)\n",
    "            gpu_df=gpu_df.append(gpu_log_series, ignore_index=True)"
   ]
  },
  {
   "cell_type": "code",
   "execution_count": null,
   "id": "712524a7",
   "metadata": {},
   "outputs": [],
   "source": [
    "gpu_df.to_csv('jz-logs_08.02.csv')"
   ]
  }
 ],
 "metadata": {
  "kernelspec": {
   "display_name": "datametrics",
   "language": "python",
   "name": "datametrics"
  },
  "language_info": {
   "codemirror_mode": {
    "name": "ipython",
    "version": 3
   },
   "file_extension": ".py",
   "mimetype": "text/x-python",
   "name": "python",
   "nbconvert_exporter": "python",
   "pygments_lexer": "ipython3",
   "version": "3.8.2"
  }
 },
 "nbformat": 4,
 "nbformat_minor": 5
}
